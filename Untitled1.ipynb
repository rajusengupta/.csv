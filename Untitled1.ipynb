{
  "nbformat": 4,
  "nbformat_minor": 0,
  "metadata": {
    "colab": {
      "provenance": [],
      "authorship_tag": "ABX9TyMI2Cw09fb4E9z93NjO40El",
      "include_colab_link": true
    },
    "kernelspec": {
      "name": "python3",
      "display_name": "Python 3"
    },
    "language_info": {
      "name": "python"
    }
  },
  "cells": [
    {
      "cell_type": "markdown",
      "metadata": {
        "id": "view-in-github",
        "colab_type": "text"
      },
      "source": [
        "<a href=\"https://colab.research.google.com/github/rajusengupta/.csv/blob/main/Untitled1.ipynb\" target=\"_parent\"><img src=\"https://colab.research.google.com/assets/colab-badge.svg\" alt=\"Open In Colab\"/></a>"
      ]
    },
    {
      "cell_type": "code",
      "execution_count": 3,
      "metadata": {
        "id": "Tbo8nN8_hLwG",
        "colab": {
          "base_uri": "https://localhost:8080/",
          "height": 184
        },
        "outputId": "f1dec82f-818d-4782-b81d-0e899b934b0c"
      },
      "outputs": [
        {
          "output_type": "stream",
          "name": "stdout",
          "text": [
            "[3, 4, 5]\n",
            "1 11\n",
            "x      [1, 7, 2]\n",
            "y      [3, 4, 5]\n",
            "z    [9, 10, 11]\n",
            "dtype: object\n",
            "[1, 7, 2, 3, 4, 5]\n"
          ]
        },
        {
          "output_type": "execute_result",
          "data": {
            "text/plain": [
              "\"\\nprint(myDF5.to_string())\\nplt.scatter(myDF5['Duration'],myDF5['Pulse'],myDF5['Maxpulse'],myDF5['Calories'])\\nplt.show()\\n\""
            ],
            "application/vnd.google.colaboratory.intrinsic+json": {
              "type": "string"
            }
          },
          "metadata": {},
          "execution_count": 3
        }
      ],
      "source": [
        "import pandas as pd\n",
        "import numpy as np\n",
        "import matplotlib.pyplot as plt\n",
        "import scipy.stats as sstats\n",
        "import sklearn.model_selection as sk\n",
        "\n",
        "'''\n",
        "myDict = {'Names': ['Jade', 'Jaden', 'Jadeja', 'Jamie', 'John'],\n",
        "          'Roll_nos': [1, 2, 3, 4 ,5]}\n",
        "print(myDict)\n",
        "print(myDict.keys())\n",
        "print(myDict.values())\n",
        "\n",
        "myDict['Roll_nos']=[1001, 1002, 1003, 1004,1005]\n",
        "print(myDict)\n",
        "print(myDict.keys())\n",
        "myDict = {'Names': ['Jade', 'Jaden', 'Jadeja', 'Jamie', 'John'],\n",
        "          'Roll_nos': [1, 2, 3, 4 ,5]}\n",
        "print(myDict)\n",
        "print(myDict.keys())\n",
        "print(myDict.values())\n",
        "\n",
        "myDict['Roll_nos']=[1001, 1002, 1003, 1004,1005]\n",
        "print(myDict)\n",
        "print(myDict.keys())\n",
        "print(myDict.values())\n",
        "\n",
        "print(myDict['Roll_nos'][1])\n",
        "\n",
        "x = myDict.items()\n",
        "print(x)\n",
        "print(x)\n",
        "\n",
        "myDict['Names'][1] = 'Jim'\n",
        "print(x)\n",
        "'''\n",
        "a =[[1, 7, 2],[3, 4, 5],[9, 10, 11]]\n",
        "\n",
        "myvar = pd.Series(a)\n",
        "\n",
        "print(myvar[1])\n",
        "print(myvar[0][0], myvar[len(myvar[1])-1][len(myvar[1])-1])\n",
        "\n",
        "myvar2 = pd.Series(a,['x','y','z'])\n",
        "print(myvar2)\n",
        "print(myvar2['x']+myvar2['y'])\n",
        "'''\n",
        "myDict2 = {'country':['USA', 'India', 'Iraq','Mexico'], 'population genre':['agressive', 'docile', 'agressive','aggressive']}\n",
        "myvar3 = pd.Series(myDict2)\n",
        "\n",
        "print(myDict2)\n",
        "print(myvar3)\n",
        "\n",
        "myDF1 = pd.DataFrame(myDict2)\n",
        "myDF2 = pd.DataFrame(myvar3)\n",
        "print(myDF1)\n",
        "print(myDF2)\n",
        "\n",
        "print(myDF1.loc[0])\n",
        "print(myDF1.loc[[0, 1]])\n",
        "'''\n",
        "'''\n",
        "myDict3 = {'sensor_in': [12,24,36,48,60,72,84,96,108,120]}\n",
        "myDict4 = {'sensor_out': [122,244,366,488,600,722,844,966,1088,1200]}\n",
        "myDict3.update(myDict4)\n",
        "print(myDict3)\n",
        "\n",
        "plt.scatter(myDict3['sensor_in'],myDict3['sensor_out'])\n",
        "plt.legend(['Sensor In', 'Sensor Out'])\n",
        "plt.xlabel('Sensor In')\n",
        "plt.ylabel('Sensor Out')\n",
        "plt.show()\n",
        "\n",
        "myDF3 = pd.DataFrame(myDict3, index=['t0','t1','t2','t3','t4','t5','t6','t7','t8','t9'])\n",
        "print(myDF3)\n",
        "print(myDF3.loc[['t0','t5']])\n",
        "plt.plot(myDF3['sensor_in'],myDF3['sensor_out'])\n",
        "plt.legend(['Sensor In', 'Sensor Out'])\n",
        "plt.xlabel('Sensor In')\n",
        "plt.ylabel('Sensor Out')\n",
        "plt.show()\n",
        "'''\n",
        "'''\n",
        "URL ='https://raw.githubusercontent.com/rajusengupta/.csv/refs/heads/main/data.csv'\n",
        "myDF4 = pd.read_csv(URL)\n",
        "myDF5 = pd.DataFrame(myDF4)\n",
        "\n",
        "pd.options.display.max_rows = 199\n",
        "print(myDF4)\n",
        "\n",
        "print(myDF4.head())\n",
        "print(myDF4.tail())\n",
        "print(myDF4.info())\n",
        "myDF5 = myDF4.dropna()\n",
        "print(myDF5.info())\n",
        "print(myDF5)\n",
        "\n",
        "print(myDF5[['Duration','Pulse']])\n",
        "print(myDF5.loc[[0,10]])\n",
        "'''\n",
        "'''\n",
        "print(myDF5.to_string())\n",
        "plt.scatter(myDF5['Duration'],myDF5['Pulse'],myDF5['Maxpulse'],myDF5['Calories'])\n",
        "plt.show()\n",
        "'''\n"
      ]
    },
    {
      "cell_type": "code",
      "source": [],
      "metadata": {
        "id": "41hzj4_wyr9z"
      },
      "execution_count": null,
      "outputs": []
    },
    {
      "cell_type": "code",
      "source": [],
      "metadata": {
        "id": "pStvowVSysr6"
      },
      "execution_count": null,
      "outputs": []
    },
    {
      "cell_type": "markdown",
      "source": [],
      "metadata": {
        "id": "EHQsxO38yts6"
      }
    },
    {
      "cell_type": "markdown",
      "source": [],
      "metadata": {
        "id": "erDflFiMyuiH"
      }
    },
    {
      "cell_type": "code",
      "source": [],
      "metadata": {
        "id": "Fh9E0Ovryup3"
      },
      "execution_count": null,
      "outputs": []
    }
  ]
}