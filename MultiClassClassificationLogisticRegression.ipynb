{
  "nbformat": 4,
  "nbformat_minor": 0,
  "metadata": {
    "colab": {
      "provenance": [],
      "authorship_tag": "ABX9TyOTtrxtUZcasMqil+8iUbD9",
      "include_colab_link": true
    },
    "kernelspec": {
      "name": "python3",
      "display_name": "Python 3"
    },
    "language_info": {
      "name": "python"
    }
  },
  "cells": [
    {
      "cell_type": "markdown",
      "metadata": {
        "id": "view-in-github",
        "colab_type": "text"
      },
      "source": [
        "<a href=\"https://colab.research.google.com/github/rajusengupta/.csv/blob/main/MultiClassClassificationLogisticRegression.ipynb\" target=\"_parent\"><img src=\"https://colab.research.google.com/assets/colab-badge.svg\" alt=\"Open In Colab\"/></a>"
      ]
    },
    {
      "cell_type": "code",
      "execution_count": null,
      "metadata": {
        "colab": {
          "base_uri": "https://localhost:8080/",
          "height": 1000
        },
        "id": "4J3tEKN17gAc",
        "outputId": "20017605-40b1-4f3d-b8b7-2b6403ce2ac0"
      },
      "outputs": [
        {
          "output_type": "stream",
          "name": "stdout",
          "text": [
            "['DESCR', 'data', 'feature_names', 'frame', 'images', 'target', 'target_names']\n",
            ".. _digits_dataset:\n",
            "\n",
            "Optical recognition of handwritten digits dataset\n",
            "--------------------------------------------------\n",
            "\n",
            "**Data Set Characteristics:**\n",
            "\n",
            ":Number of Instances: 1797\n",
            ":Number of Attributes: 64\n",
            ":Attribute Information: 8x8 image of integer pixels in the range 0..16.\n",
            ":Missing Attribute Values: None\n",
            ":Creator: E. Alpaydin (alpaydin '@' boun.edu.tr)\n",
            ":Date: July; 1998\n",
            "\n",
            "This is a copy of the test set of the UCI ML hand-written digits datasets\n",
            "https://archive.ics.uci.edu/ml/datasets/Optical+Recognition+of+Handwritten+Digits\n",
            "\n",
            "The data set contains images of hand-written digits: 10 classes where\n",
            "each class refers to a digit.\n",
            "\n",
            "Preprocessing programs made available by NIST were used to extract\n",
            "normalized bitmaps of handwritten digits from a preprinted form. From a\n",
            "total of 43 people, 30 contributed to the training set and different 13\n",
            "to the test set. 32x32 bitmaps are divided into nonoverlapping blocks of\n",
            "4x4 and the number of on pixels are counted in each block. This generates\n",
            "an input matrix of 8x8 where each element is an integer in the range\n",
            "0..16. This reduces dimensionality and gives invariance to small\n",
            "distortions.\n",
            "\n",
            "For info on NIST preprocessing routines, see M. D. Garris, J. L. Blue, G.\n",
            "T. Candela, D. L. Dimmick, J. Geist, P. J. Grother, S. A. Janet, and C.\n",
            "L. Wilson, NIST Form-Based Handprint Recognition System, NISTIR 5469,\n",
            "1994.\n",
            "\n",
            ".. dropdown:: References\n",
            "\n",
            "  - C. Kaynak (1995) Methods of Combining Multiple Classifiers and Their\n",
            "    Applications to Handwritten Digit Recognition, MSc Thesis, Institute of\n",
            "    Graduate Studies in Science and Engineering, Bogazici University.\n",
            "  - E. Alpaydin, C. Kaynak (1998) Cascading Classifiers, Kybernetika.\n",
            "  - Ken Tang and Ponnuthurai N. Suganthan and Xi Yao and A. Kai Qin.\n",
            "    Linear dimensionalityreduction using relevance weighted LDA. School of\n",
            "    Electrical and Electronic Engineering Nanyang Technological University.\n",
            "    2005.\n",
            "  - Claudio Gentile. A New Approximate Maximal Margin Classification\n",
            "    Algorithm. NIPS. 2000.\n",
            "\n",
            "[[ 0.  0.  5. ...  0.  0.  0.]\n",
            " [ 0.  0.  0. ... 10.  0.  0.]\n",
            " [ 0.  0.  0. ... 16.  9.  0.]\n",
            " ...\n",
            " [ 0.  0.  1. ...  6.  0.  0.]\n",
            " [ 0.  0.  2. ... 12.  0.  0.]\n",
            " [ 0.  0. 10. ... 12.  1.  0.]]\n",
            "['pixel_0_0', 'pixel_0_1', 'pixel_0_2', 'pixel_0_3', 'pixel_0_4', 'pixel_0_5', 'pixel_0_6', 'pixel_0_7', 'pixel_1_0', 'pixel_1_1', 'pixel_1_2', 'pixel_1_3', 'pixel_1_4', 'pixel_1_5', 'pixel_1_6', 'pixel_1_7', 'pixel_2_0', 'pixel_2_1', 'pixel_2_2', 'pixel_2_3', 'pixel_2_4', 'pixel_2_5', 'pixel_2_6', 'pixel_2_7', 'pixel_3_0', 'pixel_3_1', 'pixel_3_2', 'pixel_3_3', 'pixel_3_4', 'pixel_3_5', 'pixel_3_6', 'pixel_3_7', 'pixel_4_0', 'pixel_4_1', 'pixel_4_2', 'pixel_4_3', 'pixel_4_4', 'pixel_4_5', 'pixel_4_6', 'pixel_4_7', 'pixel_5_0', 'pixel_5_1', 'pixel_5_2', 'pixel_5_3', 'pixel_5_4', 'pixel_5_5', 'pixel_5_6', 'pixel_5_7', 'pixel_6_0', 'pixel_6_1', 'pixel_6_2', 'pixel_6_3', 'pixel_6_4', 'pixel_6_5', 'pixel_6_6', 'pixel_6_7', 'pixel_7_0', 'pixel_7_1', 'pixel_7_2', 'pixel_7_3', 'pixel_7_4', 'pixel_7_5', 'pixel_7_6', 'pixel_7_7']\n",
            "None\n",
            "[0 1 2 ... 8 9 8]\n",
            "[0 1 2 3 4 5 6 7 8 9]\n",
            "1437\n",
            "360\n",
            "100\n",
            "[4 1 2 8 8 7 0 7 4 5 8 4 5 3 2 4 4 2 2 4 0 2 9 5 8 9 2 9 8 1 2 7 7 6 9 3 1\n",
            " 0 7 7 0 1 0 8 4 1 6 1 1 5 9 7 9 3 2 6 4 2 8 9 4 0 7 7 6 9 6 7 1 1 1 0 6 5\n",
            " 0 5 3 8 0 2 9 1 2 7 4 9 3 8 9 2 5 5 7 5 9 4 2 9 5 4 9 1 5 3 4 0 5 6 4 3 3\n",
            " 0 4 3 0 3 7 7 3 3 4 1 8 1 5 2 6 0 5 0 6 7 1 8 0 4 9 2 1 0 6 1 8 5 4 1 6 8\n",
            " 8 5 9 5 3 7 6 1 6 1 3 6 2 2 9 7 9 7 6 8 5 6 9 5 5 3 7 7 9 6 6 2 4 4 4 6 0\n",
            " 5 4 8 9 1 5 6 4 5 3 3 9 1 1 6 6 7 3 2 3 3 0 1 6 8 7 5 9 7 2 4 6 5 0 2 0 9\n",
            " 5 3 1 6 9 8 8 1 0 9 2 5 2 0 0 0 8 1 9 0 0 7 0 7 4 5 2 0 0 7 5 2 0 4 7 2 3\n",
            " 5 5 9 0 3 7 3 0 0 8 7 6 9 5 2 5 9 3 3 4 6 9 9 1 2 4 3 5 9 2 4 9 1 9 1 4 9\n",
            " 3 8 1 5 8 1 2 0 1 8 8 6 1 2 0 4 7 4 1 7 3 1 9 1 3 4 9 9 5 9 2 6 4 1 0 1 4\n",
            " 6 7 8 8 0 0 4 4 8 1 5 8 9 0 5 3 8 5 9 7 7 4 9 2 1 7 2]\n",
            "[4 1 2 8 8 7 0 7 4 5 8 4 5 3 2 4 4 2 2 4 0 2 9 9 8 9 2 9 8 1 2 7 7 6 9 3 1\n",
            " 0 7 7 0 1 0 8 4 1 6 1 1 5 9 7 9 3 2 6 4 2 8 9 4 0 7 7 6 9 6 4 4 1 1 0 6 5\n",
            " 0 5 3 8 0 2 9 2 2 7 4 9 3 8 9 2 5 5 7 6 9 4 2 9 5 4 9 1 5 3 4 0 5 6 4 3 3\n",
            " 0 4 3 0 3 7 7 3 3 4 1 8 1 5 2 6 0 5 0 6 7 1 8 0 4 9 2 1 0 6 1 8 5 4 1 6 8\n",
            " 8 5 9 5 3 7 6 1 6 1 3 6 2 2 9 7 9 7 6 8 5 6 9 5 5 3 7 7 9 6 6 2 4 6 4 6 0\n",
            " 0 4 8 9 1 5 6 4 5 3 3 9 1 1 6 6 7 3 2 3 3 0 1 6 8 7 6 9 7 2 4 6 5 0 2 0 9\n",
            " 5 3 1 6 1 8 8 1 0 9 2 5 2 0 0 0 8 1 9 0 0 7 0 7 4 5 3 0 0 7 5 2 0 4 7 2 3\n",
            " 5 5 9 0 3 7 3 0 0 8 5 6 9 5 2 5 9 3 3 4 6 9 9 1 2 4 3 5 9 2 4 9 8 9 1 4 9\n",
            " 3 3 1 5 8 1 2 0 1 8 9 6 1 2 0 4 7 4 1 7 3 1 9 1 3 4 9 9 5 9 2 6 4 1 0 1 4\n",
            " 6 7 8 8 0 0 4 4 8 1 5 8 9 0 5 3 8 5 9 7 7 4 9 2 1 7 2]\n"
          ]
        },
        {
          "output_type": "execute_result",
          "data": {
            "text/plain": [
              "array([[39,  0,  0,  0,  0,  1,  0,  0,  0,  0],\n",
              "       [ 0, 38,  0,  0,  0,  0,  0,  0,  0,  1],\n",
              "       [ 0,  1, 33,  0,  0,  0,  0,  0,  0,  0],\n",
              "       [ 0,  0,  1, 31,  0,  0,  0,  0,  1,  0],\n",
              "       [ 0,  1,  0,  0, 37,  0,  0,  1,  0,  0],\n",
              "       [ 0,  0,  0,  0,  0, 35,  0,  1,  0,  0],\n",
              "       [ 0,  0,  0,  0,  1,  2, 30,  0,  0,  0],\n",
              "       [ 0,  0,  0,  0,  0,  0,  0, 33,  0,  0],\n",
              "       [ 0,  1,  0,  0,  0,  0,  0,  0, 28,  0],\n",
              "       [ 0,  0,  0,  0,  0,  1,  0,  0,  1, 42]])"
            ]
          },
          "metadata": {},
          "execution_count": 25
        },
        {
          "output_type": "display_data",
          "data": {
            "text/plain": [
              "<Figure size 640x480 with 0 Axes>"
            ]
          },
          "metadata": {}
        },
        {
          "output_type": "display_data",
          "data": {
            "text/plain": [
              "<Figure size 480x480 with 1 Axes>"
            ],
            "image/png": "[encoded data removed]"
          },
          "metadata": {}
        },
        {
          "output_type": "display_data",
          "data": {
            "text/plain": [
              "<Figure size 480x480 with 1 Axes>"
            ],
            "image/png": "[encoded data removed]"
          },
          "metadata": {}
        },
        {
          "output_type": "display_data",
          "data": {
            "text/plain": [
              "<Figure size 480x480 with 1 Axes>"
            ],
            "image/png": "[encoded data removed]"
          },
          "metadata": {}
        }
      ],
      "source": [
        "import pandas as pd\n",
        "import numpy as np\n",
        "import matplotlib.pyplot as plt\n",
        "import seaborn as sns\n",
        "import sklearn.linear_model as skl\n",
        "import sklearn.model_selection as sms\n",
        "from sklearn.datasets import load_digits\n",
        "from sklearn.linear_model import LogisticRegression as lr\n",
        "from sklearn.model_selection import train_test_split as tts\n",
        "from sklearn.metrics import confusion_matrix as conm\n",
        "\n",
        "digits = load_digits()\n",
        "print(dir(digits))\n",
        "print(digits.DESCR)\n",
        "print(digits.data)\n",
        "print(digits.feature_names)\n",
        "print(digits.frame)\n",
        "plt.gray()\n",
        "for i in range (1794, 1797):\n",
        "  plt.matshow(digits.images[i])\n",
        "print(digits.target)\n",
        "print(digits.target_names)\n",
        "X_train, X_test, y_train, y_test = tts(digits.data, digits.target, train_size= 0.8, test_size=0.2)\n",
        "print(len(X_train))\n",
        "print(len(X_test))\n",
        "model = lr()\n",
        "print(model.max_iter)\n",
        "model.max_iter = 200\n",
        "model.fit(X_train, y_train)\n",
        "model.score(X_test, y_test)\n",
        "y_predicted = model.predict(X_test)\n",
        "print(y_predicted)\n",
        "print(y_test)\n",
        "conm(y_test, y_predicted)\n",
        "\n"
      ]
    }
  ]
}