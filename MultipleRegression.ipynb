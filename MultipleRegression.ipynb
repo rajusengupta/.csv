{
  "nbformat": 4,
  "nbformat_minor": 0,
  "metadata": {
    "colab": {
      "provenance": [],
      "authorship_tag": "ABX9TyNNMHuhfDbuKCzkEehm/PVc",
      "include_colab_link": true
    },
    "kernelspec": {
      "name": "python3",
      "display_name": "Python 3"
    },
    "language_info": {
      "name": "python"
    }
  },
  "cells": [
    {
      "cell_type": "markdown",
      "metadata": {
        "id": "view-in-github",
        "colab_type": "text"
      },
      "source": [
        "<a href=\"https://colab.research.google.com/github/rajusengupta/.csv/blob/main/MultipleRegression.ipynb\" target=\"_parent\"><img src=\"https://colab.research.google.com/assets/colab-badge.svg\" alt=\"Open In Colab\"/></a>"
      ]
    },
    {
      "cell_type": "code",
      "execution_count": 8,
      "metadata": {
        "colab": {
          "base_uri": "https://localhost:8080/"
        },
        "id": "WP9fnBGsy94B",
        "outputId": "bcdc251c-997a-4910-b700-74b34363e5aa"
      },
      "outputs": [
        {
          "output_type": "stream",
          "name": "stdout",
          "text": [
            "            Volume       Weight         CO2\n",
            "count    36.000000    36.000000   36.000000\n",
            "mean   1611.111111  1292.277778  102.027778\n",
            "std     388.975047   242.123889    7.454571\n",
            "min     900.000000   790.000000   90.000000\n",
            "25%    1475.000000  1117.250000   97.750000\n",
            "50%    1600.000000  1329.000000   99.000000\n",
            "75%    2000.000000  1418.250000  105.000000\n",
            "max    2500.000000  1746.000000  120.000000\n",
            "         Car    Model  Volume  Weight  CO2\n",
            "0     Toyoty     Aygo    1000     790   99\n",
            "10   Hyundai      I20    1100     980   99\n",
            "20      Ford   Mondeo    1600    1584   94\n",
            "30  Mercedes  E-Class    2100    1605  115\n",
            "34      Opel   Zafira    1600    1405  109\n",
            "35  Mercedes      SLK    2500    1395  120\n",
            "[109.74143455]\n",
            "   Car  Model  Volume  Weight  CO2\n",
            "0    1      1    1000     790   99\n",
            "1    2      2    1200    1160   95\n",
            "2    3      3    1000     929   95\n",
            "3    4      4     900     865   90\n",
            "4    5      5    1500    1140  105\n",
            "5    6      6    1000     929  105\n",
            "[[1.]]\n"
          ]
        },
        {
          "output_type": "stream",
          "name": "stderr",
          "text": [
            "/usr/local/lib/python3.11/dist-packages/sklearn/utils/validation.py:2739: UserWarning: X does not have valid feature names, but LinearRegression was fitted with feature names\n",
            "  warnings.warn(\n",
            "/usr/local/lib/python3.11/dist-packages/sklearn/utils/validation.py:2739: UserWarning: X does not have valid feature names, but LinearRegression was fitted with feature names\n",
            "  warnings.warn(\n"
          ]
        }
      ],
      "source": [
        "import pandas as pd\n",
        "import numpy as np\n",
        "import matplotlib.pyplot as plt\n",
        "import seaborn as sns\n",
        "import sklearn.linear_model as skl\n",
        "import sklearn.model_selection as skms\n",
        "import scipy.stats as sstats\n",
        "\n",
        "URL='https://raw.githubusercontent.com/rajusengupta/.csv/refs/heads/main/CarNPollution.csv'\n",
        "\n",
        "df1 = pd.read_csv(URL)\n",
        "#print(df1.head(10))\n",
        "#print(df1.info())\n",
        "print(df1.describe())\n",
        "#print(df1[['Car','Model','CO2']])\n",
        "#print(df1.loc[[0,10,20,25,30,34,35]])\n",
        "\n",
        "mymlrmodel = skl.LinearRegression()\n",
        "#choose your X and y\n",
        "'''\n",
        "X = df1[['Car','Model','Weight']]\n",
        "y = df1['CO2']\n",
        "mymlrmodel.fit(X,y)\n",
        "predictCO2 = mymlrmodel.predict([['Toyoty','Aygo', '1050']])\n",
        "print(predictCO2)\n",
        "'''\n",
        "X = df1[['Volume', 'Weight']]\n",
        "y = df1['CO2']\n",
        "\n",
        "print(df1.loc[[0,10,20,30,34,35]])\n",
        "\n",
        "mymlrmodel.fit(X,y)\n",
        "predictCO2 = mymlrmodel.predict([[2500, 1395]])\n",
        "print(predictCO2)\n",
        "'''\n",
        "mymlrmodel2 = skl.LinearRegression()\n",
        "X_train, X_test, y_train, y_test = skms.train_test_split(X,y, train_size = 0.7, test_size = 0.3, random_state = 42)\n",
        "mymlrmodel2.fit(X_train,y_train)\n",
        "predictCO2 = mymlrmodel.predict([[2500, 1395]])\n",
        "print(predictCO2)\n",
        "mymlrmodel2.fit(X_test,y_test)\n",
        "predictCO2 = mymlrmodel.predict([[1050, 1300]])\n",
        "print(predictCO2)\n",
        "'''\n",
        "df2 = pd.DataFrame(df1.loc[[0,1,2,3,4,5]])\n",
        "df2['Car']=df2['Car'].map({'Toyoty' : 1,'Mitsubishi':2,'Skoda': 3,'Fiat' : 4, 'Mini': 5,'VW': 6})\n",
        "df2['Model']=df2['Model'].map({'Aygo':1, 'Space Star':2, 'Citigo':3, '500': 4, 'Cooper': 5, 'Up!':6})\n",
        "print(df2)\n",
        "X1=df2[['Model','Volume','Weight','CO2']]\n",
        "y1=df2[['Car']]\n",
        "mymlrmodel3 = skl.LinearRegression()\n",
        "mymlrmodel3.fit(X1,y1)\n",
        "predCar = mymlrmodel3.predict([[1,1000,790,99]])\n",
        "print(predCar)"
      ]
    }
  ]
}